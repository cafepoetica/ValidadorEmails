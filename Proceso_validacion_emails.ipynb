{
 "cells": [
  {
   "cell_type": "markdown",
   "id": "5a0cb0e7",
   "metadata": {},
   "source": [
    "                                        ··· Validacion de Emails ···\n",
    "                                      Creado por: Abraham Bravo Morales"
   ]
  },
  {
   "cell_type": "markdown",
   "id": "ac4ddbb8",
   "metadata": {},
   "source": [
    "\n",
    "#### Requerimientos:                \n",
    "\n",
    "###### pip install email-validator\n",
    "\n",
    "###### python -m pip install py3-validate-email"
   ]
  },
  {
   "cell_type": "code",
   "execution_count": 5,
   "id": "88f7ccc5",
   "metadata": {},
   "outputs": [],
   "source": [
    "#Listado de emails\n",
    "emails = [\"cafepoetica@gmail.com\",\"noesvalido.com\",\"validomail@pitin.es\"]"
   ]
  },
  {
   "cell_type": "markdown",
   "id": "4d348d10",
   "metadata": {},
   "source": [
    "Realizamos una primera valizacion para comprobar si el formato los emails son validos en una lista de Emails"
   ]
  },
  {
   "cell_type": "code",
   "execution_count": 6,
   "id": "13ec42a1",
   "metadata": {},
   "outputs": [
    {
     "name": "stdout",
     "output_type": "stream",
     "text": [
      "noesvalido.com -----> The email address is not valid. It must have exactly one @-sign.\n",
      "validomail@pitin.es -----> The domain name pitin.es does not exist.\n"
     ]
    }
   ],
   "source": [
    "#Importamos de la libreria\n",
    "from email_validator import validate_email, EmailNotValidError,caching_resolver\n",
    "\n",
    "#Al validar muchas direcciones de correo electrónico o para controlar el tiempo de espera \n",
    "#(el valor predeterminado es 15 segundos)\n",
    "\n",
    "resolver = caching_resolver(timeout=10)\n",
    "\n",
    "for email in emails:\n",
    "    try:\n",
    "        valid = validate_email(email, dns_resolver=resolver)\n",
    "        email=valid.email\n",
    "    except EmailNotValidError as e:\n",
    "        print(email + \" -----> \" + str(e))"
   ]
  },
  {
   "cell_type": "markdown",
   "id": "c6d52274",
   "metadata": {},
   "source": [
    "Realizamos las siguentes comprobaciones:\n",
    "\n",
    "    1.- la dirección de correo electrónico tiene una estructura válida\n",
    "    \n",
    "    2.- el correo electrónico con la lista negra de dominios\n",
    "    \n",
    "    3.- registros DNS mx\n",
    "    \n",
    "    4.- si el correo electrónico existe realmente iniciando una conversación SMTP"
   ]
  },
  {
   "cell_type": "code",
   "execution_count": 11,
   "id": "6bb9f026",
   "metadata": {},
   "outputs": [
    {
     "name": "stdout",
     "output_type": "stream",
     "text": [
      "El email cafepoetica@gmail.com es True\n",
      "El email noesvalido.com es False\n",
      "El email validomail@pitin.es es False\n"
     ]
    }
   ],
   "source": [
    "from validate_email import validate_email\n",
    "\n",
    "for email in emails:\n",
    "    is_valid = validate_email(\n",
    "        email_address=email,\n",
    "        check_format=True,\n",
    "        check_blacklist=True,\n",
    "        check_dns=True,\n",
    "        dns_timeout=10,\n",
    "        check_smtp=True,\n",
    "        smtp_timeout=10,\n",
    "        smtp_helo_host='my.host.name',\n",
    "        smtp_from_address='my@from.addr.ess',\n",
    "        smtp_skip_tls=False,\n",
    "        smtp_tls_context=None,\n",
    "        smtp_debug=False)\n",
    "    print('El email ' + email + ' es ' + str(is_valid))"
   ]
  },
  {
   "cell_type": "markdown",
   "id": "feb55e5a",
   "metadata": {},
   "source": [
    "Parámetros:\n",
    "\n",
    "\n",
    "**email_address**: la dirección de correo electrónico para comprobar\n",
    "\n",
    "**check_format**: compruebe si la dirección de correo electrónico tiene una estructura válida; predeterminado aTrue\n",
    "\n",
    "**check_blacklist**: compruebe el correo electrónico con la lista negra de dominios descargados de https://github.com/disposable-email-domains/disposable-email-domains ; predeterminado aTrue\n",
    "\n",
    "**check_dns**: verifica los registros DNS mx, por defecto es True\n",
    "\n",
    "**dns_timeout**: segundos hasta que se agote el tiempo de espera de DNS; predeterminado a 10 segundos\n",
    "\n",
    "**check_smtp**: compruebe si el correo electrónico existe realmente iniciando una conversación SMTP; predeterminado aTrue\n",
    "\n",
    "**smtp_timeout**: segundos hasta que se agote el tiempo de espera de SMTP; predeterminado a 10 segundos\n",
    "\n",
    "**smtp_helo_host**: el nombre de host que se utilizará en SMTP HELO / EHLO; si se establece en None(el valor predeterminado), se utiliza el nombre de dominio completo del host local\n",
    "\n",
    "**smtp_from_address**: la dirección de correo electrónico utilizada para el remitente en la conversación SMTP; si se establece en None(predeterminado), el email_addressparámetro también se utiliza como remitente\n",
    "\n",
    "**smtp_skip_tls**: omita la negociación TLS con el servidor, incluso cuando esté disponible. predeterminado aFalse\n",
    "\n",
    "**smtp_tls_context**: an SSLContextpara usar con la negociación TLS cuando el servidor lo admita. predeterminado aNone\n",
    "\n",
    "**smtp_debug**: active smtplibla salida de depuración que siempre va a stderr; predeterminado aFalse\n",
    "\n",
    "        \n",
    "*Devuelve los siguientes **resultados**:*\n",
    "\n",
    "True --->  Todas las comprobaciones solicitadas se realizaron correctamente para la dirección de correo electrónico proporcionada.\n",
    "\n",
    "False --- > Al menos una de las comprobaciones solicitadas falló para la dirección de correo electrónico proporcionada.\n",
    "\n",
    "None ---> Ninguna de las comprobaciones solicitadas falló, pero al menos una de ellas arrojó un resultado ambiguo. Actualmente, la comprobación SMTP es la única comprobación que puede producir un resultado ambiguo."
   ]
  },
  {
   "cell_type": "code",
   "execution_count": null,
   "id": "cb57a193",
   "metadata": {},
   "outputs": [],
   "source": [
    "# Actualizador automatico de las listas negras\n",
    "\n",
    "from validate_email.updater import update_builtin_blacklist \n",
    "\n",
    "update_builtin_blacklist ( \n",
    "    force: bool = False, \n",
    "    background: bool = True, \n",
    "    callback: Callable = None)"
   ]
  }
 ],
 "metadata": {
  "kernelspec": {
   "display_name": "Python 3",
   "language": "python",
   "name": "python3"
  },
  "language_info": {
   "codemirror_mode": {
    "name": "ipython",
    "version": 3
   },
   "file_extension": ".py",
   "mimetype": "text/x-python",
   "name": "python",
   "nbconvert_exporter": "python",
   "pygments_lexer": "ipython3",
   "version": "3.8.8"
  }
 },
 "nbformat": 4,
 "nbformat_minor": 5
}
